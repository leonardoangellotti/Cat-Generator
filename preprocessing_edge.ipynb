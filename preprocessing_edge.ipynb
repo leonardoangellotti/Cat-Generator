{
 "cells": [
  {
   "cell_type": "code",
   "execution_count": 1,
   "id": "4790bc3a",
   "metadata": {},
   "outputs": [
    {
     "name": "stdout",
     "output_type": "stream",
     "text": [
      "Requirement already satisfied: opencv-python in /Users/leonardoangellotti/Applications/anaconda3/envs/PML2/lib/python3.12/site-packages (4.11.0.86)\n",
      "Requirement already satisfied: numpy>=1.21.2 in /Users/leonardoangellotti/Applications/anaconda3/envs/PML2/lib/python3.12/site-packages (from opencv-python) (1.26.4)\n"
     ]
    }
   ],
   "source": [
    "!pip install opencv-python"
   ]
  },
  {
   "cell_type": "code",
   "execution_count": 2,
   "id": "763a0728",
   "metadata": {},
   "outputs": [
    {
     "name": "stdout",
     "output_type": "stream",
     "text": [
      "Convolution completed and images saved to: /Users/leonardoangellotti/Desktop/universita/master/secondo_semestre/prob_ML/progetto/progetto_v3/dataset_convolved\n"
     ]
    }
   ],
   "source": [
    "import cv2\n",
    "import numpy as np\n",
    "import os\n",
    "\n",
    "# Define the edge detection kernel\n",
    "edge_kernel = np.array([[ -1, -1, -1],\n",
    "                        [ -1,  8, -1],\n",
    "                        [ -1, -1, -1]])\n",
    "\n",
    "# Set input and output folder paths\n",
    "input_folder = '/Users/leonardoangellotti/Desktop/universita/master/secondo_semestre/prob_ML/progetto/progetto_v3/dataset'     # Change to your input folder name\n",
    "output_folder = '/Users/leonardoangellotti/Desktop/universita/master/secondo_semestre/prob_ML/progetto/progetto_v3/dataset_convolved'  # Change to your output folder name\n",
    "\n",
    "# Create output folder if it doesn't exist\n",
    "os.makedirs(output_folder, exist_ok=True)\n",
    "\n",
    "# Process each image in the input folder\n",
    "for filename in os.listdir(input_folder):\n",
    "    if filename.lower().endswith(('.png', '.jpg', '.jpeg', '.bmp', '.tiff')):\n",
    "        input_path = os.path.join(input_folder, filename)\n",
    "        output_path = os.path.join(output_folder, filename)\n",
    "\n",
    "        # Read the image in grayscale\n",
    "        image = cv2.imread(input_path, cv2.IMREAD_GRAYSCALE)\n",
    "\n",
    "        # Apply convolution with the edge kernel\n",
    "        edge_image = cv2.filter2D(image, -1, edge_kernel)\n",
    "\n",
    "        # Save the result\n",
    "        cv2.imwrite(output_path, edge_image)\n",
    "\n",
    "print(\"Convolution completed and images saved to:\", output_folder)\n"
   ]
  }
 ],
 "metadata": {
  "kernelspec": {
   "display_name": "PML2",
   "language": "python",
   "name": "python3"
  },
  "language_info": {
   "codemirror_mode": {
    "name": "ipython",
    "version": 3
   },
   "file_extension": ".py",
   "mimetype": "text/x-python",
   "name": "python",
   "nbconvert_exporter": "python",
   "pygments_lexer": "ipython3",
   "version": "3.12.9"
  }
 },
 "nbformat": 4,
 "nbformat_minor": 5
}
